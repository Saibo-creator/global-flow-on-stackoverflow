{
 "cells": [
  {
   "cell_type": "code",
   "execution_count": 26,
   "metadata": {
    "ExecuteTime": {
     "end_time": "2020-05-21T05:58:09.601266Z",
     "start_time": "2020-05-21T05:58:09.598538Z"
    }
   },
   "outputs": [],
   "source": [
    "import pandas as pd\n",
    "import os"
   ]
  },
  {
   "cell_type": "code",
   "execution_count": 27,
   "metadata": {
    "ExecuteTime": {
     "end_time": "2020-05-21T05:58:09.781114Z",
     "start_time": "2020-05-21T05:58:09.723008Z"
    }
   },
   "outputs": [],
   "source": [
    "df14=pd.read_csv('2014.csv',encoding = \"ISO-8859-1\",usecols=['What Country do you live in?']).rename(columns={'What Country do you live in?':'2014'})\n",
    "df14=df14['2014'].value_counts()"
   ]
  },
  {
   "cell_type": "code",
   "execution_count": 28,
   "metadata": {
    "ExecuteTime": {
     "end_time": "2020-05-21T05:58:09.984063Z",
     "start_time": "2020-05-21T05:58:09.820555Z"
    }
   },
   "outputs": [],
   "source": [
    "df15=pd.read_csv('2015.csv',encoding = \"ISO-8859-1\",header=1,usecols=['Country']).rename(columns={'Country':'2015'})\n",
    "df15=df15['2015'].value_counts()"
   ]
  },
  {
   "cell_type": "code",
   "execution_count": 29,
   "metadata": {
    "ExecuteTime": {
     "end_time": "2020-05-21T05:58:10.261261Z",
     "start_time": "2020-05-21T05:58:09.985534Z"
    }
   },
   "outputs": [],
   "source": [
    "df16=pd.read_csv('2016.csv',encoding = \"ISO-8859-1\",header=0,usecols=['country']).rename(columns={'country':'2016'})\n",
    "df16=df16['2016'].value_counts()"
   ]
  },
  {
   "cell_type": "code",
   "execution_count": 30,
   "metadata": {
    "ExecuteTime": {
     "end_time": "2020-05-21T05:58:10.662628Z",
     "start_time": "2020-05-21T05:58:10.262812Z"
    }
   },
   "outputs": [],
   "source": [
    "df17=pd.read_csv('2017.csv',encoding = \"ISO-8859-1\",header=0,usecols=['Country']).rename(columns={'Country':'2017'})\n",
    "df17=df17['2017'].value_counts()"
   ]
  },
  {
   "cell_type": "code",
   "execution_count": 31,
   "metadata": {
    "ExecuteTime": {
     "end_time": "2020-05-21T05:58:11.341020Z",
     "start_time": "2020-05-21T05:58:10.664097Z"
    }
   },
   "outputs": [],
   "source": [
    "df18=pd.read_csv('2018.csv',encoding = \"ISO-8859-1\",header=0,usecols=['Country']).rename(columns={'Country':'2018'})\n",
    "df18=df18['2018'].value_counts()"
   ]
  },
  {
   "cell_type": "code",
   "execution_count": 32,
   "metadata": {
    "ExecuteTime": {
     "end_time": "2020-05-21T05:58:11.985833Z",
     "start_time": "2020-05-21T05:58:11.342467Z"
    }
   },
   "outputs": [],
   "source": [
    "df19=pd.read_csv('2019.csv',encoding = \"ISO-8859-1\",header=0,usecols=['Country']).rename(columns={'Country':'2019'})\n",
    "df19=df19['2019'].value_counts()"
   ]
  },
  {
   "cell_type": "code",
   "execution_count": 33,
   "metadata": {
    "ExecuteTime": {
     "end_time": "2020-05-21T05:58:11.994220Z",
     "start_time": "2020-05-21T05:58:11.987708Z"
    }
   },
   "outputs": [
    {
     "name": "stderr",
     "output_type": "stream",
     "text": [
      "/opt/anaconda3/lib/python3.7/site-packages/ipykernel_launcher.py:1: FutureWarning: Sorting because non-concatenation axis is not aligned. A future version\n",
      "of pandas will change to not sort by default.\n",
      "\n",
      "To accept the future behavior, pass 'sort=False'.\n",
      "\n",
      "To retain the current behavior and silence the warning, pass 'sort=True'.\n",
      "\n",
      "  \"\"\"Entry point for launching an IPython kernel.\n"
     ]
    }
   ],
   "source": [
    "year14_19=pd.concat([df14,df15,df16,df17,df18,df19],axis=1).fillna(0).astype('int32')"
   ]
  },
  {
   "cell_type": "code",
   "execution_count": 34,
   "metadata": {
    "ExecuteTime": {
     "end_time": "2020-05-21T05:58:12.005169Z",
     "start_time": "2020-05-21T05:58:11.995677Z"
    }
   },
   "outputs": [
    {
     "data": {
      "text/html": [
       "<div>\n",
       "<style scoped>\n",
       "    .dataframe tbody tr th:only-of-type {\n",
       "        vertical-align: middle;\n",
       "    }\n",
       "\n",
       "    .dataframe tbody tr th {\n",
       "        vertical-align: top;\n",
       "    }\n",
       "\n",
       "    .dataframe thead th {\n",
       "        text-align: right;\n",
       "    }\n",
       "</style>\n",
       "<table border=\"1\" class=\"dataframe\">\n",
       "  <thead>\n",
       "    <tr style=\"text-align: right;\">\n",
       "      <th></th>\n",
       "      <th>2014</th>\n",
       "      <th>2015</th>\n",
       "      <th>2016</th>\n",
       "      <th>2017</th>\n",
       "      <th>2018</th>\n",
       "      <th>2019</th>\n",
       "    </tr>\n",
       "  </thead>\n",
       "  <tbody>\n",
       "    <tr>\n",
       "      <td>United States</td>\n",
       "      <td>2128</td>\n",
       "      <td>4745</td>\n",
       "      <td>13539</td>\n",
       "      <td>11455</td>\n",
       "      <td>20309</td>\n",
       "      <td>20949</td>\n",
       "    </tr>\n",
       "    <tr>\n",
       "      <td>India</td>\n",
       "      <td>881</td>\n",
       "      <td>2461</td>\n",
       "      <td>4193</td>\n",
       "      <td>5197</td>\n",
       "      <td>13721</td>\n",
       "      <td>9061</td>\n",
       "    </tr>\n",
       "    <tr>\n",
       "      <td>Germany</td>\n",
       "      <td>455</td>\n",
       "      <td>1976</td>\n",
       "      <td>3883</td>\n",
       "      <td>4143</td>\n",
       "      <td>6459</td>\n",
       "      <td>5866</td>\n",
       "    </tr>\n",
       "    <tr>\n",
       "      <td>United Kingdom</td>\n",
       "      <td>721</td>\n",
       "      <td>2403</td>\n",
       "      <td>4573</td>\n",
       "      <td>4395</td>\n",
       "      <td>6221</td>\n",
       "      <td>5737</td>\n",
       "    </tr>\n",
       "    <tr>\n",
       "      <td>Canada</td>\n",
       "      <td>306</td>\n",
       "      <td>828</td>\n",
       "      <td>2024</td>\n",
       "      <td>2233</td>\n",
       "      <td>3393</td>\n",
       "      <td>3395</td>\n",
       "    </tr>\n",
       "    <tr>\n",
       "      <td>France</td>\n",
       "      <td>198</td>\n",
       "      <td>776</td>\n",
       "      <td>1626</td>\n",
       "      <td>1740</td>\n",
       "      <td>2572</td>\n",
       "      <td>2391</td>\n",
       "    </tr>\n",
       "    <tr>\n",
       "      <td>Brazil</td>\n",
       "      <td>96</td>\n",
       "      <td>367</td>\n",
       "      <td>1015</td>\n",
       "      <td>777</td>\n",
       "      <td>2505</td>\n",
       "      <td>1948</td>\n",
       "    </tr>\n",
       "    <tr>\n",
       "      <td>Poland</td>\n",
       "      <td>131</td>\n",
       "      <td>833</td>\n",
       "      <td>1971</td>\n",
       "      <td>1290</td>\n",
       "      <td>2122</td>\n",
       "      <td>1922</td>\n",
       "    </tr>\n",
       "    <tr>\n",
       "      <td>Australia</td>\n",
       "      <td>182</td>\n",
       "      <td>618</td>\n",
       "      <td>1117</td>\n",
       "      <td>913</td>\n",
       "      <td>2018</td>\n",
       "      <td>1903</td>\n",
       "    </tr>\n",
       "    <tr>\n",
       "      <td>Netherlands</td>\n",
       "      <td>154</td>\n",
       "      <td>614</td>\n",
       "      <td>1188</td>\n",
       "      <td>855</td>\n",
       "      <td>1841</td>\n",
       "      <td>1852</td>\n",
       "    </tr>\n",
       "    <tr>\n",
       "      <td>Russian Federation</td>\n",
       "      <td>0</td>\n",
       "      <td>650</td>\n",
       "      <td>1419</td>\n",
       "      <td>873</td>\n",
       "      <td>2869</td>\n",
       "      <td>1694</td>\n",
       "    </tr>\n",
       "    <tr>\n",
       "      <td>Spain</td>\n",
       "      <td>97</td>\n",
       "      <td>605</td>\n",
       "      <td>1026</td>\n",
       "      <td>864</td>\n",
       "      <td>1769</td>\n",
       "      <td>1604</td>\n",
       "    </tr>\n",
       "    <tr>\n",
       "      <td>Italy</td>\n",
       "      <td>125</td>\n",
       "      <td>506</td>\n",
       "      <td>1137</td>\n",
       "      <td>781</td>\n",
       "      <td>1535</td>\n",
       "      <td>1576</td>\n",
       "    </tr>\n",
       "    <tr>\n",
       "      <td>Sweden</td>\n",
       "      <td>99</td>\n",
       "      <td>540</td>\n",
       "      <td>1328</td>\n",
       "      <td>611</td>\n",
       "      <td>1164</td>\n",
       "      <td>1274</td>\n",
       "    </tr>\n",
       "    <tr>\n",
       "      <td>Switzerland</td>\n",
       "      <td>83</td>\n",
       "      <td>393</td>\n",
       "      <td>574</td>\n",
       "      <td>595</td>\n",
       "      <td>1010</td>\n",
       "      <td>978</td>\n",
       "    </tr>\n",
       "    <tr>\n",
       "      <td>Israel</td>\n",
       "      <td>117</td>\n",
       "      <td>192</td>\n",
       "      <td>439</td>\n",
       "      <td>575</td>\n",
       "      <td>1003</td>\n",
       "      <td>952</td>\n",
       "    </tr>\n",
       "    <tr>\n",
       "      <td>Turkey</td>\n",
       "      <td>68</td>\n",
       "      <td>220</td>\n",
       "      <td>445</td>\n",
       "      <td>363</td>\n",
       "      <td>1004</td>\n",
       "      <td>949</td>\n",
       "    </tr>\n",
       "    <tr>\n",
       "      <td>Pakistan</td>\n",
       "      <td>48</td>\n",
       "      <td>121</td>\n",
       "      <td>337</td>\n",
       "      <td>454</td>\n",
       "      <td>1050</td>\n",
       "      <td>923</td>\n",
       "    </tr>\n",
       "    <tr>\n",
       "      <td>Ukraine</td>\n",
       "      <td>69</td>\n",
       "      <td>222</td>\n",
       "      <td>802</td>\n",
       "      <td>356</td>\n",
       "      <td>1279</td>\n",
       "      <td>868</td>\n",
       "    </tr>\n",
       "    <tr>\n",
       "      <td>Austria</td>\n",
       "      <td>66</td>\n",
       "      <td>300</td>\n",
       "      <td>482</td>\n",
       "      <td>477</td>\n",
       "      <td>788</td>\n",
       "      <td>839</td>\n",
       "    </tr>\n",
       "  </tbody>\n",
       "</table>\n",
       "</div>"
      ],
      "text/plain": [
       "                    2014  2015   2016   2017   2018   2019\n",
       "United States       2128  4745  13539  11455  20309  20949\n",
       "India                881  2461   4193   5197  13721   9061\n",
       "Germany              455  1976   3883   4143   6459   5866\n",
       "United Kingdom       721  2403   4573   4395   6221   5737\n",
       "Canada               306   828   2024   2233   3393   3395\n",
       "France               198   776   1626   1740   2572   2391\n",
       "Brazil                96   367   1015    777   2505   1948\n",
       "Poland               131   833   1971   1290   2122   1922\n",
       "Australia            182   618   1117    913   2018   1903\n",
       "Netherlands          154   614   1188    855   1841   1852\n",
       "Russian Federation     0   650   1419    873   2869   1694\n",
       "Spain                 97   605   1026    864   1769   1604\n",
       "Italy                125   506   1137    781   1535   1576\n",
       "Sweden                99   540   1328    611   1164   1274\n",
       "Switzerland           83   393    574    595   1010    978\n",
       "Israel               117   192    439    575   1003    952\n",
       "Turkey                68   220    445    363   1004    949\n",
       "Pakistan              48   121    337    454   1050    923\n",
       "Ukraine               69   222    802    356   1279    868\n",
       "Austria               66   300    482    477    788    839"
      ]
     },
     "execution_count": 34,
     "metadata": {},
     "output_type": "execute_result"
    }
   ],
   "source": [
    "year14_19.sort_values(by='2019',ascending=False).head(20)"
   ]
  },
  {
   "cell_type": "code",
   "execution_count": 37,
   "metadata": {
    "ExecuteTime": {
     "end_time": "2020-05-21T05:58:32.550193Z",
     "start_time": "2020-05-21T05:58:32.545895Z"
    }
   },
   "outputs": [],
   "source": [
    "year14_19=year14_19.reset_index().rename(columns={'index':'country'})"
   ]
  },
  {
   "cell_type": "code",
   "execution_count": 39,
   "metadata": {
    "ExecuteTime": {
     "end_time": "2020-05-21T05:58:46.628299Z",
     "start_time": "2020-05-21T05:58:42.899379Z"
    }
   },
   "outputs": [
    {
     "name": "stderr",
     "output_type": "stream",
     "text": [
      "WARNING:root:Azerbaidjan not found in regex\n",
      "WARNING:root:I prefer not to say not found in regex\n",
      "WARNING:root:Moldavia not found in regex\n",
      "WARNING:root:Netherlands Antilles not found in regex\n",
      "WARNING:root:Other not found in regex\n",
      "WARNING:root:Other (please specify) not found in regex\n",
      "WARNING:root:Other Country (Not Listed Above) not found in regex\n",
      "WARNING:root:Polynesia (French) not found in regex\n",
      "WARNING:root:Response not found in regex\n",
      "WARNING:root:More then one regular expression match for S. Georgia & S. Sandwich Isls.\n",
      "WARNING:root:More then one regular expression match for S. Georgia & S. Sandwich Isls.\n",
      "WARNING:root:More then one regular expression match for S. Georgia & S. Sandwich Isls.\n",
      "WARNING:root:More then one regular expression match for S. Georgia & S. Sandwich Isls.\n",
      "WARNING:root:More then one regular expression match for S. Georgia & S. Sandwich Isls.\n",
      "WARNING:root:More then one regular expression match for S. Georgia & S. Sandwich Isls.\n",
      "WARNING:root:More then one regular expression match for S. Georgia & S. Sandwich Isls.\n",
      "WARNING:root:More then one regular expression match for S. Georgia & S. Sandwich Isls.\n",
      "WARNING:root:More then one regular expression match for S. Georgia & S. Sandwich Isls.\n",
      "WARNING:root:More then one regular expression match for S. Georgia & S. Sandwich Isls.\n",
      "WARNING:root:More then one regular expression match for S. Georgia & S. Sandwich Isls.\n",
      "WARNING:root:More then one regular expression match for S. Georgia & S. Sandwich Isls.\n",
      "WARNING:root:More then one regular expression match for S. Georgia & S. Sandwich Isls.\n",
      "WARNING:root:More then one regular expression match for S. Georgia & S. Sandwich Isls.\n",
      "WARNING:root:More then one regular expression match for S. Georgia & S. Sandwich Isls.\n",
      "WARNING:root:More then one regular expression match for S. Georgia & S. Sandwich Isls.\n",
      "WARNING:root:More then one regular expression match for S. Georgia & S. Sandwich Isls.\n",
      "WARNING:root:More then one regular expression match for S. Georgia & S. Sandwich Isls.\n",
      "WARNING:root:More then one regular expression match for S. Georgia & S. Sandwich Isls.\n",
      "WARNING:root:More then one regular expression match for S. Georgia & S. Sandwich Isls.\n",
      "WARNING:root:More then one regular expression match for S. Georgia & S. Sandwich Isls.\n",
      "WARNING:root:More then one regular expression match for S. Georgia & S. Sandwich Isls.\n",
      "WARNING:root:More then one regular expression match for S. Georgia & S. Sandwich Isls.\n",
      "WARNING:root:More then one regular expression match for S. Georgia & S. Sandwich Isls.\n",
      "WARNING:root:More then one regular expression match for S. Georgia & S. Sandwich Isls.\n",
      "WARNING:root:More then one regular expression match for S. Georgia & S. Sandwich Isls.\n",
      "WARNING:root:More then one regular expression match for S. Georgia & S. Sandwich Isls.\n",
      "WARNING:root:More then one regular expression match for S. Georgia & S. Sandwich Isls.\n",
      "WARNING:root:More then one regular expression match for S. Georgia & S. Sandwich Isls.\n",
      "WARNING:root:More then one regular expression match for S. Georgia & S. Sandwich Isls.\n",
      "WARNING:root:More then one regular expression match for S. Georgia & S. Sandwich Isls.\n",
      "WARNING:root:More then one regular expression match for S. Georgia & S. Sandwich Isls.\n",
      "WARNING:root:More then one regular expression match for S. Georgia & S. Sandwich Isls.\n",
      "WARNING:root:More then one regular expression match for S. Georgia & S. Sandwich Isls.\n",
      "WARNING:root:More then one regular expression match for S. Georgia & S. Sandwich Isls.\n",
      "WARNING:root:More then one regular expression match for S. Georgia & S. Sandwich Isls.\n",
      "WARNING:root:More then one regular expression match for S. Georgia & S. Sandwich Isls.\n",
      "WARNING:root:More then one regular expression match for S. Georgia & S. Sandwich Isls.\n",
      "WARNING:root:More then one regular expression match for S. Georgia & S. Sandwich Isls.\n",
      "WARNING:root:More then one regular expression match for S. Georgia & S. Sandwich Isls.\n",
      "WARNING:root:More then one regular expression match for S. Georgia & S. Sandwich Isls.\n",
      "WARNING:root:More then one regular expression match for S. Georgia & S. Sandwich Isls.\n",
      "WARNING:root:More then one regular expression match for S. Georgia & S. Sandwich Isls.\n",
      "WARNING:root:More then one regular expression match for S. Georgia & S. Sandwich Isls.\n",
      "WARNING:root:More then one regular expression match for S. Georgia & S. Sandwich Isls.\n",
      "WARNING:root:More then one regular expression match for S. Georgia & S. Sandwich Isls.\n",
      "WARNING:root:More then one regular expression match for S. Georgia & S. Sandwich Isls.\n",
      "WARNING:root:More then one regular expression match for S. Georgia & S. Sandwich Isls.\n",
      "WARNING:root:More then one regular expression match for S. Georgia & S. Sandwich Isls.\n",
      "WARNING:root:Tadjikistan not found in regex\n"
     ]
    }
   ],
   "source": [
    "import country_converter as coco\n",
    "\n",
    "year14_19['iso3']=year14_19.country.apply(lambda x: coco.convert(names=x,to='ISO3') )"
   ]
  },
  {
   "cell_type": "code",
   "execution_count": 45,
   "metadata": {
    "ExecuteTime": {
     "end_time": "2020-05-21T06:02:20.988473Z",
     "start_time": "2020-05-21T06:02:20.984102Z"
    }
   },
   "outputs": [],
   "source": [
    "year14_19=year14_19[year14_19['2019']>0].reset_index(drop=True)"
   ]
  },
  {
   "cell_type": "code",
   "execution_count": 56,
   "metadata": {
    "ExecuteTime": {
     "end_time": "2020-05-21T06:04:15.511209Z",
     "start_time": "2020-05-21T06:04:15.496573Z"
    }
   },
   "outputs": [
    {
     "data": {
      "text/html": [
       "<div>\n",
       "<style scoped>\n",
       "    .dataframe tbody tr th:only-of-type {\n",
       "        vertical-align: middle;\n",
       "    }\n",
       "\n",
       "    .dataframe tbody tr th {\n",
       "        vertical-align: top;\n",
       "    }\n",
       "\n",
       "    .dataframe thead th {\n",
       "        text-align: right;\n",
       "    }\n",
       "</style>\n",
       "<table border=\"1\" class=\"dataframe\">\n",
       "  <thead>\n",
       "    <tr style=\"text-align: right;\">\n",
       "      <th></th>\n",
       "      <th>country</th>\n",
       "      <th>2014</th>\n",
       "      <th>2015</th>\n",
       "      <th>2016</th>\n",
       "      <th>2017</th>\n",
       "      <th>2018</th>\n",
       "      <th>2019</th>\n",
       "      <th>iso3</th>\n",
       "    </tr>\n",
       "  </thead>\n",
       "  <tbody>\n",
       "    <tr>\n",
       "      <td>0</td>\n",
       "      <td>Afghanistan</td>\n",
       "      <td>0</td>\n",
       "      <td>48</td>\n",
       "      <td>48</td>\n",
       "      <td>60</td>\n",
       "      <td>64</td>\n",
       "      <td>44</td>\n",
       "      <td>AFG</td>\n",
       "    </tr>\n",
       "    <tr>\n",
       "      <td>1</td>\n",
       "      <td>Albania</td>\n",
       "      <td>0</td>\n",
       "      <td>17</td>\n",
       "      <td>34</td>\n",
       "      <td>76</td>\n",
       "      <td>109</td>\n",
       "      <td>86</td>\n",
       "      <td>ALB</td>\n",
       "    </tr>\n",
       "    <tr>\n",
       "      <td>2</td>\n",
       "      <td>Algeria</td>\n",
       "      <td>24</td>\n",
       "      <td>30</td>\n",
       "      <td>38</td>\n",
       "      <td>41</td>\n",
       "      <td>130</td>\n",
       "      <td>134</td>\n",
       "      <td>DZA</td>\n",
       "    </tr>\n",
       "    <tr>\n",
       "      <td>3</td>\n",
       "      <td>Andorra</td>\n",
       "      <td>0</td>\n",
       "      <td>4</td>\n",
       "      <td>12</td>\n",
       "      <td>6</td>\n",
       "      <td>15</td>\n",
       "      <td>7</td>\n",
       "      <td>AND</td>\n",
       "    </tr>\n",
       "    <tr>\n",
       "      <td>4</td>\n",
       "      <td>Angola</td>\n",
       "      <td>0</td>\n",
       "      <td>6</td>\n",
       "      <td>10</td>\n",
       "      <td>9</td>\n",
       "      <td>11</td>\n",
       "      <td>5</td>\n",
       "      <td>AGO</td>\n",
       "    </tr>\n",
       "    <tr>\n",
       "      <td>...</td>\n",
       "      <td>...</td>\n",
       "      <td>...</td>\n",
       "      <td>...</td>\n",
       "      <td>...</td>\n",
       "      <td>...</td>\n",
       "      <td>...</td>\n",
       "      <td>...</td>\n",
       "      <td>...</td>\n",
       "    </tr>\n",
       "    <tr>\n",
       "      <td>174</td>\n",
       "      <td>Venezuela, Bolivarian Republic of...</td>\n",
       "      <td>0</td>\n",
       "      <td>0</td>\n",
       "      <td>0</td>\n",
       "      <td>0</td>\n",
       "      <td>123</td>\n",
       "      <td>88</td>\n",
       "      <td>VEN</td>\n",
       "    </tr>\n",
       "    <tr>\n",
       "      <td>175</td>\n",
       "      <td>Viet Nam</td>\n",
       "      <td>0</td>\n",
       "      <td>0</td>\n",
       "      <td>0</td>\n",
       "      <td>0</td>\n",
       "      <td>331</td>\n",
       "      <td>231</td>\n",
       "      <td>VNM</td>\n",
       "    </tr>\n",
       "    <tr>\n",
       "      <td>176</td>\n",
       "      <td>Yemen</td>\n",
       "      <td>0</td>\n",
       "      <td>0</td>\n",
       "      <td>3</td>\n",
       "      <td>3</td>\n",
       "      <td>13</td>\n",
       "      <td>19</td>\n",
       "      <td>YEM</td>\n",
       "    </tr>\n",
       "    <tr>\n",
       "      <td>177</td>\n",
       "      <td>Zambia</td>\n",
       "      <td>0</td>\n",
       "      <td>1</td>\n",
       "      <td>2</td>\n",
       "      <td>10</td>\n",
       "      <td>9</td>\n",
       "      <td>12</td>\n",
       "      <td>ZMB</td>\n",
       "    </tr>\n",
       "    <tr>\n",
       "      <td>178</td>\n",
       "      <td>Zimbabwe</td>\n",
       "      <td>0</td>\n",
       "      <td>5</td>\n",
       "      <td>9</td>\n",
       "      <td>20</td>\n",
       "      <td>39</td>\n",
       "      <td>39</td>\n",
       "      <td>ZWE</td>\n",
       "    </tr>\n",
       "  </tbody>\n",
       "</table>\n",
       "<p>178 rows × 8 columns</p>\n",
       "</div>"
      ],
      "text/plain": [
       "                                  country  2014  2015  2016  2017  2018  2019  \\\n",
       "0                             Afghanistan     0    48    48    60    64    44   \n",
       "1                                 Albania     0    17    34    76   109    86   \n",
       "2                                 Algeria    24    30    38    41   130   134   \n",
       "3                                 Andorra     0     4    12     6    15     7   \n",
       "4                                  Angola     0     6    10     9    11     5   \n",
       "..                                    ...   ...   ...   ...   ...   ...   ...   \n",
       "174  Venezuela, Bolivarian Republic of...     0     0     0     0   123    88   \n",
       "175                              Viet Nam     0     0     0     0   331   231   \n",
       "176                                 Yemen     0     0     3     3    13    19   \n",
       "177                                Zambia     0     1     2    10     9    12   \n",
       "178                              Zimbabwe     0     5     9    20    39    39   \n",
       "\n",
       "    iso3  \n",
       "0    AFG  \n",
       "1    ALB  \n",
       "2    DZA  \n",
       "3    AND  \n",
       "4    AGO  \n",
       "..   ...  \n",
       "174  VEN  \n",
       "175  VNM  \n",
       "176  YEM  \n",
       "177  ZMB  \n",
       "178  ZWE  \n",
       "\n",
       "[178 rows x 8 columns]"
      ]
     },
     "execution_count": 56,
     "metadata": {},
     "output_type": "execute_result"
    }
   ],
   "source": [
    "year14_19[year14_19['iso3'].apply(lambda x:len(x))<4]"
   ]
  },
  {
   "cell_type": "code",
   "execution_count": 57,
   "metadata": {
    "ExecuteTime": {
     "end_time": "2020-05-21T06:04:17.731843Z",
     "start_time": "2020-05-21T06:04:17.723843Z"
    }
   },
   "outputs": [],
   "source": [
    "year14_19.to_csv('./survey_particp_14_19.csv')"
   ]
  },
  {
   "cell_type": "code",
   "execution_count": null,
   "metadata": {},
   "outputs": [],
   "source": []
  }
 ],
 "metadata": {
  "kernelspec": {
   "display_name": "Python 3",
   "language": "python",
   "name": "python3"
  },
  "language_info": {
   "codemirror_mode": {
    "name": "ipython",
    "version": 3
   },
   "file_extension": ".py",
   "mimetype": "text/x-python",
   "name": "python",
   "nbconvert_exporter": "python",
   "pygments_lexer": "ipython3",
   "version": "3.7.4"
  }
 },
 "nbformat": 4,
 "nbformat_minor": 2
}
