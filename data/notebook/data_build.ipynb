{
 "cells": [
  {
   "cell_type": "markdown",
   "metadata": {},
   "source": [
    "## centroid(h2)"
   ]
  },
  {
   "cell_type": "code",
   "execution_count": 1,
   "metadata": {
    "ExecuteTime": {
     "end_time": "2020-05-01T04:46:09.550900Z",
     "start_time": "2020-05-01T04:46:08.615718Z"
    }
   },
   "outputs": [],
   "source": [
    "import geopandas as gpd\n",
    "import pandas as pd\n",
    "\n",
    "# Access built-in Natural Earth data via GeoPandas\n",
    "world = gpd.read_file(gpd.datasets.get_path('naturalearth_lowres'))\n",
    "\n",
    "# Get a list (dataframe) of country centroids\n",
    "centroids = world.centroid\n",
    "centroids = pd.concat([world.name, centroids], axis=1)\n",
    "\n",
    "centroids.rename(columns={0:'centroid'},inplace=True)  "
   ]
  },
  {
   "cell_type": "code",
   "execution_count": 2,
   "metadata": {
    "ExecuteTime": {
     "end_time": "2020-05-01T04:46:09.575107Z",
     "start_time": "2020-05-01T04:46:09.552263Z"
    }
   },
   "outputs": [
    {
     "data": {
      "text/html": [
       "<div>\n",
       "<style scoped>\n",
       "    .dataframe tbody tr th:only-of-type {\n",
       "        vertical-align: middle;\n",
       "    }\n",
       "\n",
       "    .dataframe tbody tr th {\n",
       "        vertical-align: top;\n",
       "    }\n",
       "\n",
       "    .dataframe thead th {\n",
       "        text-align: right;\n",
       "    }\n",
       "</style>\n",
       "<table border=\"1\" class=\"dataframe\">\n",
       "  <thead>\n",
       "    <tr style=\"text-align: right;\">\n",
       "      <th></th>\n",
       "      <th>name</th>\n",
       "      <th>centroid</th>\n",
       "      <th>long</th>\n",
       "      <th>lat</th>\n",
       "    </tr>\n",
       "  </thead>\n",
       "  <tbody>\n",
       "    <tr>\n",
       "      <td>0</td>\n",
       "      <td>Fiji</td>\n",
       "      <td>POINT (163.85316 -17.31631)</td>\n",
       "      <td>163.853165</td>\n",
       "      <td>-17.316309</td>\n",
       "    </tr>\n",
       "    <tr>\n",
       "      <td>1</td>\n",
       "      <td>Tanzania</td>\n",
       "      <td>POINT (34.75299 -6.25773)</td>\n",
       "      <td>34.752990</td>\n",
       "      <td>-6.257732</td>\n",
       "    </tr>\n",
       "    <tr>\n",
       "      <td>2</td>\n",
       "      <td>W. Sahara</td>\n",
       "      <td>POINT (-12.13783 24.29117)</td>\n",
       "      <td>-12.137831</td>\n",
       "      <td>24.291173</td>\n",
       "    </tr>\n",
       "    <tr>\n",
       "      <td>3</td>\n",
       "      <td>Canada</td>\n",
       "      <td>POINT (-98.14238 61.46908)</td>\n",
       "      <td>-98.142381</td>\n",
       "      <td>61.469076</td>\n",
       "    </tr>\n",
       "    <tr>\n",
       "      <td>4</td>\n",
       "      <td>United States of America</td>\n",
       "      <td>POINT (-112.59944 45.70563)</td>\n",
       "      <td>-112.599436</td>\n",
       "      <td>45.705628</td>\n",
       "    </tr>\n",
       "  </tbody>\n",
       "</table>\n",
       "</div>"
      ],
      "text/plain": [
       "                       name                     centroid        long  \\\n",
       "0                      Fiji  POINT (163.85316 -17.31631)  163.853165   \n",
       "1                  Tanzania    POINT (34.75299 -6.25773)   34.752990   \n",
       "2                 W. Sahara   POINT (-12.13783 24.29117)  -12.137831   \n",
       "3                    Canada   POINT (-98.14238 61.46908)  -98.142381   \n",
       "4  United States of America  POINT (-112.59944 45.70563) -112.599436   \n",
       "\n",
       "         lat  \n",
       "0 -17.316309  \n",
       "1  -6.257732  \n",
       "2  24.291173  \n",
       "3  61.469076  \n",
       "4  45.705628  "
      ]
     },
     "execution_count": 2,
     "metadata": {},
     "output_type": "execute_result"
    }
   ],
   "source": [
    "#extract long ,lat from centroid point data type\n",
    "centroids['long']=centroids['centroid'].apply(lambda x: x.x)\n",
    "centroids['lat']=centroids['centroid'].apply(lambda x: x.y)\n",
    "centroids.head()"
   ]
  },
  {
   "cell_type": "code",
   "execution_count": 3,
   "metadata": {
    "ExecuteTime": {
     "end_time": "2020-05-01T04:46:09.585946Z",
     "start_time": "2020-05-01T04:46:09.577066Z"
    }
   },
   "outputs": [
    {
     "data": {
      "text/html": [
       "<div>\n",
       "<style scoped>\n",
       "    .dataframe tbody tr th:only-of-type {\n",
       "        vertical-align: middle;\n",
       "    }\n",
       "\n",
       "    .dataframe tbody tr th {\n",
       "        vertical-align: top;\n",
       "    }\n",
       "\n",
       "    .dataframe thead th {\n",
       "        text-align: right;\n",
       "    }\n",
       "</style>\n",
       "<table border=\"1\" class=\"dataframe\">\n",
       "  <thead>\n",
       "    <tr style=\"text-align: right;\">\n",
       "      <th></th>\n",
       "      <th>name</th>\n",
       "      <th>centroid</th>\n",
       "      <th>long</th>\n",
       "      <th>lat</th>\n",
       "    </tr>\n",
       "  </thead>\n",
       "  <tbody>\n",
       "    <tr>\n",
       "      <td>139</td>\n",
       "      <td>China</td>\n",
       "      <td>POINT (103.88361 36.55507)</td>\n",
       "      <td>103.883612</td>\n",
       "      <td>36.555067</td>\n",
       "    </tr>\n",
       "  </tbody>\n",
       "</table>\n",
       "</div>"
      ],
      "text/plain": [
       "      name                    centroid        long        lat\n",
       "139  China  POINT (103.88361 36.55507)  103.883612  36.555067"
      ]
     },
     "execution_count": 3,
     "metadata": {},
     "output_type": "execute_result"
    }
   ],
   "source": [
    "centroids[centroids['name']=='China']"
   ]
  },
  {
   "cell_type": "code",
   "execution_count": 4,
   "metadata": {
    "ExecuteTime": {
     "end_time": "2020-05-01T04:46:12.084441Z",
     "start_time": "2020-05-01T04:46:09.587845Z"
    }
   },
   "outputs": [
    {
     "name": "stderr",
     "output_type": "stream",
     "text": [
      "WARNING:root:Fr. S. Antarctic Lands not found in regex\n",
      "WARNING:root:S. Sudan not found in regex\n"
     ]
    }
   ],
   "source": [
    "import country_converter as coco\n",
    "\n",
    "centroids['iso3']=centroids.name.apply(lambda x: coco.convert(names=x,to='ISO3') )"
   ]
  },
  {
   "cell_type": "code",
   "execution_count": null,
   "metadata": {},
   "outputs": [],
   "source": []
  },
  {
   "cell_type": "code",
   "execution_count": 5,
   "metadata": {
    "ExecuteTime": {
     "end_time": "2020-05-01T04:46:12.097077Z",
     "start_time": "2020-05-01T04:46:12.085647Z"
    }
   },
   "outputs": [],
   "source": []
  },
  {
   "cell_type": "code",
   "execution_count": 31,
   "metadata": {
    "ExecuteTime": {
     "end_time": "2020-05-01T04:49:07.203320Z",
     "start_time": "2020-05-01T04:49:07.197021Z"
    }
   },
   "outputs": [],
   "source": [
    "centroids.loc[centroids['iso3']=='FRA','lat']=48\n",
    "centroids.loc[centroids['iso3']=='FRA','long']=5"
   ]
  },
  {
   "cell_type": "code",
   "execution_count": 32,
   "metadata": {
    "ExecuteTime": {
     "end_time": "2020-05-01T04:49:07.650176Z",
     "start_time": "2020-05-01T04:49:07.640150Z"
    }
   },
   "outputs": [
    {
     "data": {
      "text/html": [
       "<div>\n",
       "<style scoped>\n",
       "    .dataframe tbody tr th:only-of-type {\n",
       "        vertical-align: middle;\n",
       "    }\n",
       "\n",
       "    .dataframe tbody tr th {\n",
       "        vertical-align: top;\n",
       "    }\n",
       "\n",
       "    .dataframe thead th {\n",
       "        text-align: right;\n",
       "    }\n",
       "</style>\n",
       "<table border=\"1\" class=\"dataframe\">\n",
       "  <thead>\n",
       "    <tr style=\"text-align: right;\">\n",
       "      <th></th>\n",
       "      <th>Unnamed: 0</th>\n",
       "      <th>name</th>\n",
       "      <th>centroid</th>\n",
       "      <th>long</th>\n",
       "      <th>lat</th>\n",
       "      <th>iso3</th>\n",
       "    </tr>\n",
       "  </thead>\n",
       "  <tbody>\n",
       "    <tr>\n",
       "      <td>43</td>\n",
       "      <td>43</td>\n",
       "      <td>France</td>\n",
       "      <td>POINT (-2.876696699270627 42.46070432663372)</td>\n",
       "      <td>5.0</td>\n",
       "      <td>48.0</td>\n",
       "      <td>FRA</td>\n",
       "    </tr>\n",
       "  </tbody>\n",
       "</table>\n",
       "</div>"
      ],
      "text/plain": [
       "    Unnamed: 0    name                                      centroid  long  \\\n",
       "43          43  France  POINT (-2.876696699270627 42.46070432663372)   5.0   \n",
       "\n",
       "     lat iso3  \n",
       "43  48.0  FRA  "
      ]
     },
     "execution_count": 32,
     "metadata": {},
     "output_type": "execute_result"
    }
   ],
   "source": [
    "centroids[centroids['iso3']=='FRA']"
   ]
  },
  {
   "cell_type": "code",
   "execution_count": 33,
   "metadata": {
    "ExecuteTime": {
     "end_time": "2020-05-01T04:49:08.805413Z",
     "start_time": "2020-05-01T04:49:08.798313Z"
    }
   },
   "outputs": [],
   "source": [
    "centroids.to_csv('./centroids.csv')"
   ]
  },
  {
   "cell_type": "code",
   "execution_count": null,
   "metadata": {},
   "outputs": [],
   "source": []
  },
  {
   "cell_type": "code",
   "execution_count": null,
   "metadata": {},
   "outputs": [],
   "source": []
  },
  {
   "cell_type": "code",
   "execution_count": null,
   "metadata": {},
   "outputs": [],
   "source": []
  },
  {
   "cell_type": "code",
   "execution_count": null,
   "metadata": {},
   "outputs": [],
   "source": []
  },
  {
   "cell_type": "markdown",
   "metadata": {},
   "source": [
    "## flow_betw_country(h2)"
   ]
  },
  {
   "cell_type": "code",
   "execution_count": 16,
   "metadata": {
    "ExecuteTime": {
     "end_time": "2020-05-01T04:47:57.138745Z",
     "start_time": "2020-05-01T04:47:57.135809Z"
    }
   },
   "outputs": [],
   "source": [
    "import pandas as pd"
   ]
  },
  {
   "cell_type": "code",
   "execution_count": null,
   "metadata": {},
   "outputs": [],
   "source": []
  },
  {
   "cell_type": "code",
   "execution_count": 17,
   "metadata": {
    "ExecuteTime": {
     "end_time": "2020-05-01T04:48:18.129836Z",
     "start_time": "2020-05-01T04:47:57.406686Z"
    }
   },
   "outputs": [],
   "source": [
    "ques=pd.read_csv('data16-19NoText/stackoverflow_questions_2016-2019_notext.csv')[['Id','owner_user_id']]\n",
    "user=pd.read_csv('data16-19NoText/stackoverflow_users_all_notext_clean.csv')[['id','country_iso3']]\n",
    "ans=pd.read_csv('data16-19NoText/stackoverflow_answers_2016-2019_notext.csv')[['Id','owner_user_id','parent_id']]"
   ]
  },
  {
   "cell_type": "code",
   "execution_count": 34,
   "metadata": {
    "ExecuteTime": {
     "end_time": "2020-05-01T04:49:12.608229Z",
     "start_time": "2020-05-01T04:49:12.601952Z"
    }
   },
   "outputs": [],
   "source": [
    "centroids=pd.read_csv('./centroids.csv')"
   ]
  },
  {
   "cell_type": "code",
   "execution_count": 35,
   "metadata": {
    "ExecuteTime": {
     "end_time": "2020-05-01T04:49:19.405240Z",
     "start_time": "2020-05-01T04:49:14.078893Z"
    }
   },
   "outputs": [],
   "source": [
    "# merge ans ques into one table\n",
    "ans_ques=pd.merge(ans,ques,left_on='parent_id',right_on='Id',suffixes=('_ans', '_ques'),)\n",
    "\n",
    "# ans=ans.rename(columns={'owner_user_id':'ans_owner_id','parent_id':'ques_owner_id'})\n",
    "# ans.head()"
   ]
  },
  {
   "cell_type": "code",
   "execution_count": 36,
   "metadata": {
    "ExecuteTime": {
     "end_time": "2020-05-01T04:49:19.415005Z",
     "start_time": "2020-05-01T04:49:19.406576Z"
    }
   },
   "outputs": [
    {
     "data": {
      "text/html": [
       "<div>\n",
       "<style scoped>\n",
       "    .dataframe tbody tr th:only-of-type {\n",
       "        vertical-align: middle;\n",
       "    }\n",
       "\n",
       "    .dataframe tbody tr th {\n",
       "        vertical-align: top;\n",
       "    }\n",
       "\n",
       "    .dataframe thead th {\n",
       "        text-align: right;\n",
       "    }\n",
       "</style>\n",
       "<table border=\"1\" class=\"dataframe\">\n",
       "  <thead>\n",
       "    <tr style=\"text-align: right;\">\n",
       "      <th></th>\n",
       "      <th>Id_ans</th>\n",
       "      <th>owner_user_id_ans</th>\n",
       "      <th>parent_id</th>\n",
       "      <th>Id_ques</th>\n",
       "      <th>owner_user_id_ques</th>\n",
       "    </tr>\n",
       "  </thead>\n",
       "  <tbody>\n",
       "    <tr>\n",
       "      <td>0</td>\n",
       "      <td>56292528</td>\n",
       "      <td>5674777.0</td>\n",
       "      <td>56275396</td>\n",
       "      <td>56275396</td>\n",
       "      <td>5674777.0</td>\n",
       "    </tr>\n",
       "    <tr>\n",
       "      <td>1</td>\n",
       "      <td>56292773</td>\n",
       "      <td>8245406.0</td>\n",
       "      <td>56292148</td>\n",
       "      <td>56292148</td>\n",
       "      <td>11430866.0</td>\n",
       "    </tr>\n",
       "    <tr>\n",
       "      <td>2</td>\n",
       "      <td>56292918</td>\n",
       "      <td>8506548.0</td>\n",
       "      <td>56292148</td>\n",
       "      <td>56292148</td>\n",
       "      <td>11430866.0</td>\n",
       "    </tr>\n",
       "    <tr>\n",
       "      <td>3</td>\n",
       "      <td>56293594</td>\n",
       "      <td>8380272.0</td>\n",
       "      <td>56292148</td>\n",
       "      <td>56292148</td>\n",
       "      <td>11430866.0</td>\n",
       "    </tr>\n",
       "    <tr>\n",
       "      <td>4</td>\n",
       "      <td>56292786</td>\n",
       "      <td>8199990.0</td>\n",
       "      <td>49432666</td>\n",
       "      <td>49432666</td>\n",
       "      <td>6683866.0</td>\n",
       "    </tr>\n",
       "  </tbody>\n",
       "</table>\n",
       "</div>"
      ],
      "text/plain": [
       "     Id_ans  owner_user_id_ans  parent_id   Id_ques  owner_user_id_ques\n",
       "0  56292528          5674777.0   56275396  56275396           5674777.0\n",
       "1  56292773          8245406.0   56292148  56292148          11430866.0\n",
       "2  56292918          8506548.0   56292148  56292148          11430866.0\n",
       "3  56293594          8380272.0   56292148  56292148          11430866.0\n",
       "4  56292786          8199990.0   49432666  49432666           6683866.0"
      ]
     },
     "execution_count": 36,
     "metadata": {},
     "output_type": "execute_result"
    }
   ],
   "source": [
    "ans_ques.head()"
   ]
  },
  {
   "cell_type": "code",
   "execution_count": 37,
   "metadata": {
    "ExecuteTime": {
     "end_time": "2020-05-01T04:49:33.595690Z",
     "start_time": "2020-05-01T04:49:19.416751Z"
    }
   },
   "outputs": [
    {
     "data": {
      "text/html": [
       "<div>\n",
       "<style scoped>\n",
       "    .dataframe tbody tr th:only-of-type {\n",
       "        vertical-align: middle;\n",
       "    }\n",
       "\n",
       "    .dataframe tbody tr th {\n",
       "        vertical-align: top;\n",
       "    }\n",
       "\n",
       "    .dataframe thead th {\n",
       "        text-align: right;\n",
       "    }\n",
       "</style>\n",
       "<table border=\"1\" class=\"dataframe\">\n",
       "  <thead>\n",
       "    <tr style=\"text-align: right;\">\n",
       "      <th></th>\n",
       "      <th>Id_ans</th>\n",
       "      <th>owner_user_id_ans</th>\n",
       "      <th>parent_id</th>\n",
       "      <th>Id_ques</th>\n",
       "      <th>owner_user_id_ques</th>\n",
       "      <th>ans_owner_country</th>\n",
       "      <th>ques_owner_country</th>\n",
       "    </tr>\n",
       "  </thead>\n",
       "  <tbody>\n",
       "    <tr>\n",
       "      <td>0</td>\n",
       "      <td>56292528</td>\n",
       "      <td>5674777.0</td>\n",
       "      <td>56275396</td>\n",
       "      <td>56275396</td>\n",
       "      <td>5674777.0</td>\n",
       "      <td>NLD</td>\n",
       "      <td>NLD</td>\n",
       "    </tr>\n",
       "    <tr>\n",
       "      <td>1</td>\n",
       "      <td>42777028</td>\n",
       "      <td>5988389.0</td>\n",
       "      <td>42754732</td>\n",
       "      <td>42754732</td>\n",
       "      <td>5674777.0</td>\n",
       "      <td>THA</td>\n",
       "      <td>NLD</td>\n",
       "    </tr>\n",
       "    <tr>\n",
       "      <td>2</td>\n",
       "      <td>44013446</td>\n",
       "      <td>979387.0</td>\n",
       "      <td>44011323</td>\n",
       "      <td>44011323</td>\n",
       "      <td>5674777.0</td>\n",
       "      <td>USA</td>\n",
       "      <td>NLD</td>\n",
       "    </tr>\n",
       "    <tr>\n",
       "      <td>3</td>\n",
       "      <td>44012639</td>\n",
       "      <td>8022293.0</td>\n",
       "      <td>44011323</td>\n",
       "      <td>44011323</td>\n",
       "      <td>5674777.0</td>\n",
       "      <td>USA</td>\n",
       "      <td>NLD</td>\n",
       "    </tr>\n",
       "    <tr>\n",
       "      <td>4</td>\n",
       "      <td>56292918</td>\n",
       "      <td>8506548.0</td>\n",
       "      <td>56292148</td>\n",
       "      <td>56292148</td>\n",
       "      <td>11430866.0</td>\n",
       "      <td>DEU</td>\n",
       "      <td>IND</td>\n",
       "    </tr>\n",
       "  </tbody>\n",
       "</table>\n",
       "</div>"
      ],
      "text/plain": [
       "     Id_ans  owner_user_id_ans  parent_id   Id_ques  owner_user_id_ques  \\\n",
       "0  56292528          5674777.0   56275396  56275396           5674777.0   \n",
       "1  42777028          5988389.0   42754732  42754732           5674777.0   \n",
       "2  44013446           979387.0   44011323  44011323           5674777.0   \n",
       "3  44012639          8022293.0   44011323  44011323           5674777.0   \n",
       "4  56292918          8506548.0   56292148  56292148          11430866.0   \n",
       "\n",
       "  ans_owner_country ques_owner_country  \n",
       "0               NLD                NLD  \n",
       "1               THA                NLD  \n",
       "2               USA                NLD  \n",
       "3               USA                NLD  \n",
       "4               DEU                IND  "
      ]
     },
     "execution_count": 37,
     "metadata": {},
     "output_type": "execute_result"
    }
   ],
   "source": [
    "#merge ans id column with user table to generate ans_owner_country\n",
    "ans_ques=pd.merge(ans_ques,user,left_on='owner_user_id_ans',right_on='id',copy=False,how='inner')\\\n",
    ".rename(columns={'country_iso3':'ans_owner_country'})\\\n",
    ".drop('id',axis=1)\n",
    "#merge ques id column with user table to generate ques_owner_country\n",
    "ans_ques=pd.merge(ans_ques,user,left_on='owner_user_id_ques',right_on='id',copy=False,how='inner')\\\n",
    ".rename(columns={'country_iso3':'ques_owner_country'})\\\n",
    ".drop('id',axis=1)\n",
    "ans_ques.head()\n",
    "#executed in 14.2s"
   ]
  },
  {
   "cell_type": "code",
   "execution_count": 38,
   "metadata": {
    "ExecuteTime": {
     "end_time": "2020-05-01T04:49:34.098477Z",
     "start_time": "2020-05-01T04:49:33.599333Z"
    }
   },
   "outputs": [],
   "source": [
    "#group by both ques and ans country\n",
    "country_flow=ans_ques.groupby(by=['ques_owner_country','ans_owner_country']).count()['Id_ans']\n",
    "# convert hierachical index to columns\n",
    "country_flow=country_flow.reset_index().sort_values('Id_ans',ascending=False).rename(columns={'Id_ans':'count'}).reset_index()"
   ]
  },
  {
   "cell_type": "code",
   "execution_count": 39,
   "metadata": {
    "ExecuteTime": {
     "end_time": "2020-05-01T04:49:34.105904Z",
     "start_time": "2020-05-01T04:49:34.099865Z"
    }
   },
   "outputs": [
    {
     "data": {
      "text/html": [
       "<div>\n",
       "<style scoped>\n",
       "    .dataframe tbody tr th:only-of-type {\n",
       "        vertical-align: middle;\n",
       "    }\n",
       "\n",
       "    .dataframe tbody tr th {\n",
       "        vertical-align: top;\n",
       "    }\n",
       "\n",
       "    .dataframe thead th {\n",
       "        text-align: right;\n",
       "    }\n",
       "</style>\n",
       "<table border=\"1\" class=\"dataframe\">\n",
       "  <thead>\n",
       "    <tr style=\"text-align: right;\">\n",
       "      <th></th>\n",
       "      <th>index</th>\n",
       "      <th>ques_owner_country</th>\n",
       "      <th>ans_owner_country</th>\n",
       "      <th>count</th>\n",
       "    </tr>\n",
       "  </thead>\n",
       "  <tbody>\n",
       "    <tr>\n",
       "      <td>0</td>\n",
       "      <td>16886</td>\n",
       "      <td>USA</td>\n",
       "      <td>USA</td>\n",
       "      <td>237222</td>\n",
       "    </tr>\n",
       "    <tr>\n",
       "      <td>1</td>\n",
       "      <td>7136</td>\n",
       "      <td>IND</td>\n",
       "      <td>IND</td>\n",
       "      <td>187438</td>\n",
       "    </tr>\n",
       "    <tr>\n",
       "      <td>2</td>\n",
       "      <td>7243</td>\n",
       "      <td>IND</td>\n",
       "      <td>USA</td>\n",
       "      <td>67089</td>\n",
       "    </tr>\n",
       "    <tr>\n",
       "      <td>3</td>\n",
       "      <td>16780</td>\n",
       "      <td>USA</td>\n",
       "      <td>IND</td>\n",
       "      <td>49883</td>\n",
       "    </tr>\n",
       "    <tr>\n",
       "      <td>4</td>\n",
       "      <td>5579</td>\n",
       "      <td>GBR</td>\n",
       "      <td>GBR</td>\n",
       "      <td>45615</td>\n",
       "    </tr>\n",
       "  </tbody>\n",
       "</table>\n",
       "</div>"
      ],
      "text/plain": [
       "   index ques_owner_country ans_owner_country   count\n",
       "0  16886                USA               USA  237222\n",
       "1   7136                IND               IND  187438\n",
       "2   7243                IND               USA   67089\n",
       "3  16780                USA               IND   49883\n",
       "4   5579                GBR               GBR   45615"
      ]
     },
     "execution_count": 39,
     "metadata": {},
     "output_type": "execute_result"
    }
   ],
   "source": [
    "country_flow.head()"
   ]
  },
  {
   "cell_type": "code",
   "execution_count": 40,
   "metadata": {
    "ExecuteTime": {
     "end_time": "2020-05-01T04:49:34.127652Z",
     "start_time": "2020-05-01T04:49:34.107378Z"
    }
   },
   "outputs": [],
   "source": [
    "country_flow=pd.merge(country_flow,centroids[['iso3','long','lat']],left_on='ques_owner_country',right_on='iso3')\\\n",
    ".drop(columns='iso3')"
   ]
  },
  {
   "cell_type": "code",
   "execution_count": 41,
   "metadata": {
    "ExecuteTime": {
     "end_time": "2020-05-01T04:49:34.152137Z",
     "start_time": "2020-05-01T04:49:34.129135Z"
    }
   },
   "outputs": [],
   "source": [
    "country_flow=pd.merge(country_flow,centroids[['iso3','long','lat']],left_on='ans_owner_country',right_on='iso3'\\\n",
    "                      ,suffixes=('_ques','_ans')).drop(columns='iso3')"
   ]
  },
  {
   "cell_type": "code",
   "execution_count": 42,
   "metadata": {
    "ExecuteTime": {
     "end_time": "2020-05-01T04:49:34.166904Z",
     "start_time": "2020-05-01T04:49:34.153791Z"
    }
   },
   "outputs": [
    {
     "data": {
      "text/html": [
       "<div>\n",
       "<style scoped>\n",
       "    .dataframe tbody tr th:only-of-type {\n",
       "        vertical-align: middle;\n",
       "    }\n",
       "\n",
       "    .dataframe tbody tr th {\n",
       "        vertical-align: top;\n",
       "    }\n",
       "\n",
       "    .dataframe thead th {\n",
       "        text-align: right;\n",
       "    }\n",
       "</style>\n",
       "<table border=\"1\" class=\"dataframe\">\n",
       "  <thead>\n",
       "    <tr style=\"text-align: right;\">\n",
       "      <th></th>\n",
       "      <th>index</th>\n",
       "      <th>ques_owner_country</th>\n",
       "      <th>ans_owner_country</th>\n",
       "      <th>count</th>\n",
       "      <th>long_ques</th>\n",
       "      <th>lat_ques</th>\n",
       "      <th>long_ans</th>\n",
       "      <th>lat_ans</th>\n",
       "    </tr>\n",
       "  </thead>\n",
       "  <tbody>\n",
       "    <tr>\n",
       "      <td>0</td>\n",
       "      <td>16886</td>\n",
       "      <td>USA</td>\n",
       "      <td>USA</td>\n",
       "      <td>237222</td>\n",
       "      <td>-112.599436</td>\n",
       "      <td>45.705628</td>\n",
       "      <td>-112.599436</td>\n",
       "      <td>45.705628</td>\n",
       "    </tr>\n",
       "    <tr>\n",
       "      <td>1</td>\n",
       "      <td>7243</td>\n",
       "      <td>IND</td>\n",
       "      <td>USA</td>\n",
       "      <td>67089</td>\n",
       "      <td>79.593704</td>\n",
       "      <td>22.925006</td>\n",
       "      <td>-112.599436</td>\n",
       "      <td>45.705628</td>\n",
       "    </tr>\n",
       "    <tr>\n",
       "      <td>2</td>\n",
       "      <td>5699</td>\n",
       "      <td>GBR</td>\n",
       "      <td>USA</td>\n",
       "      <td>35947</td>\n",
       "      <td>-2.853135</td>\n",
       "      <td>53.914773</td>\n",
       "      <td>-112.599436</td>\n",
       "      <td>45.705628</td>\n",
       "    </tr>\n",
       "    <tr>\n",
       "      <td>3</td>\n",
       "      <td>4098</td>\n",
       "      <td>DEU</td>\n",
       "      <td>USA</td>\n",
       "      <td>22288</td>\n",
       "      <td>10.288485</td>\n",
       "      <td>51.133723</td>\n",
       "      <td>-112.599436</td>\n",
       "      <td>45.705628</td>\n",
       "    </tr>\n",
       "    <tr>\n",
       "      <td>4</td>\n",
       "      <td>2632</td>\n",
       "      <td>CAN</td>\n",
       "      <td>USA</td>\n",
       "      <td>22002</td>\n",
       "      <td>-98.142381</td>\n",
       "      <td>61.469076</td>\n",
       "      <td>-112.599436</td>\n",
       "      <td>45.705628</td>\n",
       "    </tr>\n",
       "    <tr>\n",
       "      <td>...</td>\n",
       "      <td>...</td>\n",
       "      <td>...</td>\n",
       "      <td>...</td>\n",
       "      <td>...</td>\n",
       "      <td>...</td>\n",
       "      <td>...</td>\n",
       "      <td>...</td>\n",
       "      <td>...</td>\n",
       "    </tr>\n",
       "    <tr>\n",
       "      <td>15105</td>\n",
       "      <td>5158</td>\n",
       "      <td>FIN</td>\n",
       "      <td>GAB</td>\n",
       "      <td>1</td>\n",
       "      <td>26.211765</td>\n",
       "      <td>64.504094</td>\n",
       "      <td>11.687751</td>\n",
       "      <td>-0.647048</td>\n",
       "    </tr>\n",
       "    <tr>\n",
       "      <td>15106</td>\n",
       "      <td>10008</td>\n",
       "      <td>MAR</td>\n",
       "      <td>GAB</td>\n",
       "      <td>1</td>\n",
       "      <td>-8.420480</td>\n",
       "      <td>29.885395</td>\n",
       "      <td>11.687751</td>\n",
       "      <td>-0.647048</td>\n",
       "    </tr>\n",
       "    <tr>\n",
       "      <td>15107</td>\n",
       "      <td>5513</td>\n",
       "      <td>GAB</td>\n",
       "      <td>GAB</td>\n",
       "      <td>8</td>\n",
       "      <td>11.687751</td>\n",
       "      <td>-0.647048</td>\n",
       "      <td>11.687751</td>\n",
       "      <td>-0.647048</td>\n",
       "    </tr>\n",
       "    <tr>\n",
       "      <td>15108</td>\n",
       "      <td>12930</td>\n",
       "      <td>PHL</td>\n",
       "      <td>NER</td>\n",
       "      <td>1</td>\n",
       "      <td>122.902672</td>\n",
       "      <td>11.763799</td>\n",
       "      <td>9.324427</td>\n",
       "      <td>17.345553</td>\n",
       "    </tr>\n",
       "    <tr>\n",
       "      <td>15109</td>\n",
       "      <td>11529</td>\n",
       "      <td>NER</td>\n",
       "      <td>NER</td>\n",
       "      <td>1</td>\n",
       "      <td>9.324427</td>\n",
       "      <td>17.345553</td>\n",
       "      <td>9.324427</td>\n",
       "      <td>17.345553</td>\n",
       "    </tr>\n",
       "  </tbody>\n",
       "</table>\n",
       "<p>15110 rows × 8 columns</p>\n",
       "</div>"
      ],
      "text/plain": [
       "       index ques_owner_country ans_owner_country   count   long_ques  \\\n",
       "0      16886                USA               USA  237222 -112.599436   \n",
       "1       7243                IND               USA   67089   79.593704   \n",
       "2       5699                GBR               USA   35947   -2.853135   \n",
       "3       4098                DEU               USA   22288   10.288485   \n",
       "4       2632                CAN               USA   22002  -98.142381   \n",
       "...      ...                ...               ...     ...         ...   \n",
       "15105   5158                FIN               GAB       1   26.211765   \n",
       "15106  10008                MAR               GAB       1   -8.420480   \n",
       "15107   5513                GAB               GAB       8   11.687751   \n",
       "15108  12930                PHL               NER       1  122.902672   \n",
       "15109  11529                NER               NER       1    9.324427   \n",
       "\n",
       "        lat_ques    long_ans    lat_ans  \n",
       "0      45.705628 -112.599436  45.705628  \n",
       "1      22.925006 -112.599436  45.705628  \n",
       "2      53.914773 -112.599436  45.705628  \n",
       "3      51.133723 -112.599436  45.705628  \n",
       "4      61.469076 -112.599436  45.705628  \n",
       "...          ...         ...        ...  \n",
       "15105  64.504094   11.687751  -0.647048  \n",
       "15106  29.885395   11.687751  -0.647048  \n",
       "15107  -0.647048   11.687751  -0.647048  \n",
       "15108  11.763799    9.324427  17.345553  \n",
       "15109  17.345553    9.324427  17.345553  \n",
       "\n",
       "[15110 rows x 8 columns]"
      ]
     },
     "execution_count": 42,
     "metadata": {},
     "output_type": "execute_result"
    }
   ],
   "source": [
    "country_flow"
   ]
  },
  {
   "cell_type": "code",
   "execution_count": null,
   "metadata": {},
   "outputs": [],
   "source": []
  },
  {
   "cell_type": "code",
   "execution_count": null,
   "metadata": {},
   "outputs": [],
   "source": []
  },
  {
   "cell_type": "code",
   "execution_count": null,
   "metadata": {},
   "outputs": [],
   "source": []
  },
  {
   "cell_type": "code",
   "execution_count": 43,
   "metadata": {
    "ExecuteTime": {
     "end_time": "2020-05-01T04:49:34.177352Z",
     "start_time": "2020-05-01T04:49:34.168644Z"
    }
   },
   "outputs": [
    {
     "data": {
      "text/html": [
       "<div>\n",
       "<style scoped>\n",
       "    .dataframe tbody tr th:only-of-type {\n",
       "        vertical-align: middle;\n",
       "    }\n",
       "\n",
       "    .dataframe tbody tr th {\n",
       "        vertical-align: top;\n",
       "    }\n",
       "\n",
       "    .dataframe thead th {\n",
       "        text-align: right;\n",
       "    }\n",
       "</style>\n",
       "<table border=\"1\" class=\"dataframe\">\n",
       "  <thead>\n",
       "    <tr style=\"text-align: right;\">\n",
       "      <th></th>\n",
       "      <th>Unnamed: 0</th>\n",
       "      <th>Unnamed: 0.1</th>\n",
       "      <th>name</th>\n",
       "      <th>centroid</th>\n",
       "      <th>long</th>\n",
       "      <th>lat</th>\n",
       "      <th>iso3</th>\n",
       "    </tr>\n",
       "  </thead>\n",
       "  <tbody>\n",
       "    <tr>\n",
       "      <td>43</td>\n",
       "      <td>43</td>\n",
       "      <td>43</td>\n",
       "      <td>France</td>\n",
       "      <td>POINT (-2.876696699270627 42.46070432663372)</td>\n",
       "      <td>5.0</td>\n",
       "      <td>48.0</td>\n",
       "      <td>FRA</td>\n",
       "    </tr>\n",
       "  </tbody>\n",
       "</table>\n",
       "</div>"
      ],
      "text/plain": [
       "    Unnamed: 0  Unnamed: 0.1    name  \\\n",
       "43          43            43  France   \n",
       "\n",
       "                                        centroid  long   lat iso3  \n",
       "43  POINT (-2.876696699270627 42.46070432663372)   5.0  48.0  FRA  "
      ]
     },
     "execution_count": 43,
     "metadata": {},
     "output_type": "execute_result"
    }
   ],
   "source": [
    "centroids[centroids['iso3']=='FRA']"
   ]
  },
  {
   "cell_type": "code",
   "execution_count": 44,
   "metadata": {
    "ExecuteTime": {
     "end_time": "2020-05-01T04:49:34.309055Z",
     "start_time": "2020-05-01T04:49:34.178709Z"
    }
   },
   "outputs": [],
   "source": [
    "country_flow.to_csv('flow_betw_country.csv')"
   ]
  },
  {
   "cell_type": "code",
   "execution_count": 45,
   "metadata": {
    "ExecuteTime": {
     "end_time": "2020-05-01T04:49:34.326189Z",
     "start_time": "2020-05-01T04:49:34.310756Z"
    }
   },
   "outputs": [
    {
     "data": {
      "text/html": [
       "<div>\n",
       "<style scoped>\n",
       "    .dataframe tbody tr th:only-of-type {\n",
       "        vertical-align: middle;\n",
       "    }\n",
       "\n",
       "    .dataframe tbody tr th {\n",
       "        vertical-align: top;\n",
       "    }\n",
       "\n",
       "    .dataframe thead th {\n",
       "        text-align: right;\n",
       "    }\n",
       "</style>\n",
       "<table border=\"1\" class=\"dataframe\">\n",
       "  <thead>\n",
       "    <tr style=\"text-align: right;\">\n",
       "      <th></th>\n",
       "      <th>index</th>\n",
       "      <th>ques_owner_country</th>\n",
       "      <th>ans_owner_country</th>\n",
       "      <th>count</th>\n",
       "      <th>long_ques</th>\n",
       "      <th>lat_ques</th>\n",
       "      <th>long_ans</th>\n",
       "      <th>lat_ans</th>\n",
       "    </tr>\n",
       "  </thead>\n",
       "  <tbody>\n",
       "    <tr>\n",
       "      <td>991</td>\n",
       "      <td>16755</td>\n",
       "      <td>USA</td>\n",
       "      <td>FRA</td>\n",
       "      <td>13779</td>\n",
       "      <td>-112.599436</td>\n",
       "      <td>45.705628</td>\n",
       "      <td>5.0</td>\n",
       "      <td>48.0</td>\n",
       "    </tr>\n",
       "    <tr>\n",
       "      <td>992</td>\n",
       "      <td>7114</td>\n",
       "      <td>IND</td>\n",
       "      <td>FRA</td>\n",
       "      <td>15114</td>\n",
       "      <td>79.593704</td>\n",
       "      <td>22.925006</td>\n",
       "      <td>5.0</td>\n",
       "      <td>48.0</td>\n",
       "    </tr>\n",
       "    <tr>\n",
       "      <td>993</td>\n",
       "      <td>5578</td>\n",
       "      <td>GBR</td>\n",
       "      <td>FRA</td>\n",
       "      <td>5770</td>\n",
       "      <td>-2.853135</td>\n",
       "      <td>53.914773</td>\n",
       "      <td>5.0</td>\n",
       "      <td>48.0</td>\n",
       "    </tr>\n",
       "    <tr>\n",
       "      <td>994</td>\n",
       "      <td>3983</td>\n",
       "      <td>DEU</td>\n",
       "      <td>FRA</td>\n",
       "      <td>5118</td>\n",
       "      <td>10.288485</td>\n",
       "      <td>51.133723</td>\n",
       "      <td>5.0</td>\n",
       "      <td>48.0</td>\n",
       "    </tr>\n",
       "    <tr>\n",
       "      <td>995</td>\n",
       "      <td>2520</td>\n",
       "      <td>CAN</td>\n",
       "      <td>FRA</td>\n",
       "      <td>2365</td>\n",
       "      <td>-98.142381</td>\n",
       "      <td>61.469076</td>\n",
       "      <td>5.0</td>\n",
       "      <td>48.0</td>\n",
       "    </tr>\n",
       "    <tr>\n",
       "      <td>...</td>\n",
       "      <td>...</td>\n",
       "      <td>...</td>\n",
       "      <td>...</td>\n",
       "      <td>...</td>\n",
       "      <td>...</td>\n",
       "      <td>...</td>\n",
       "      <td>...</td>\n",
       "      <td>...</td>\n",
       "    </tr>\n",
       "    <tr>\n",
       "      <td>1151</td>\n",
       "      <td>15464</td>\n",
       "      <td>TCD</td>\n",
       "      <td>FRA</td>\n",
       "      <td>2</td>\n",
       "      <td>18.581330</td>\n",
       "      <td>15.328867</td>\n",
       "      <td>5.0</td>\n",
       "      <td>48.0</td>\n",
       "    </tr>\n",
       "    <tr>\n",
       "      <td>1152</td>\n",
       "      <td>4732</td>\n",
       "      <td>ERI</td>\n",
       "      <td>FRA</td>\n",
       "      <td>1</td>\n",
       "      <td>38.678187</td>\n",
       "      <td>15.427277</td>\n",
       "      <td>5.0</td>\n",
       "      <td>48.0</td>\n",
       "    </tr>\n",
       "    <tr>\n",
       "      <td>1153</td>\n",
       "      <td>1152</td>\n",
       "      <td>BDI</td>\n",
       "      <td>FRA</td>\n",
       "      <td>1</td>\n",
       "      <td>29.913892</td>\n",
       "      <td>-3.377391</td>\n",
       "      <td>5.0</td>\n",
       "      <td>48.0</td>\n",
       "    </tr>\n",
       "    <tr>\n",
       "      <td>1154</td>\n",
       "      <td>5989</td>\n",
       "      <td>GIN</td>\n",
       "      <td>FRA</td>\n",
       "      <td>1</td>\n",
       "      <td>-11.060854</td>\n",
       "      <td>10.448273</td>\n",
       "      <td>5.0</td>\n",
       "      <td>48.0</td>\n",
       "    </tr>\n",
       "    <tr>\n",
       "      <td>1155</td>\n",
       "      <td>4111</td>\n",
       "      <td>DJI</td>\n",
       "      <td>FRA</td>\n",
       "      <td>1</td>\n",
       "      <td>42.498020</td>\n",
       "      <td>11.773044</td>\n",
       "      <td>5.0</td>\n",
       "      <td>48.0</td>\n",
       "    </tr>\n",
       "  </tbody>\n",
       "</table>\n",
       "<p>165 rows × 8 columns</p>\n",
       "</div>"
      ],
      "text/plain": [
       "      index ques_owner_country ans_owner_country  count   long_ques  \\\n",
       "991   16755                USA               FRA  13779 -112.599436   \n",
       "992    7114                IND               FRA  15114   79.593704   \n",
       "993    5578                GBR               FRA   5770   -2.853135   \n",
       "994    3983                DEU               FRA   5118   10.288485   \n",
       "995    2520                CAN               FRA   2365  -98.142381   \n",
       "...     ...                ...               ...    ...         ...   \n",
       "1151  15464                TCD               FRA      2   18.581330   \n",
       "1152   4732                ERI               FRA      1   38.678187   \n",
       "1153   1152                BDI               FRA      1   29.913892   \n",
       "1154   5989                GIN               FRA      1  -11.060854   \n",
       "1155   4111                DJI               FRA      1   42.498020   \n",
       "\n",
       "       lat_ques  long_ans  lat_ans  \n",
       "991   45.705628       5.0     48.0  \n",
       "992   22.925006       5.0     48.0  \n",
       "993   53.914773       5.0     48.0  \n",
       "994   51.133723       5.0     48.0  \n",
       "995   61.469076       5.0     48.0  \n",
       "...         ...       ...      ...  \n",
       "1151  15.328867       5.0     48.0  \n",
       "1152  15.427277       5.0     48.0  \n",
       "1153  -3.377391       5.0     48.0  \n",
       "1154  10.448273       5.0     48.0  \n",
       "1155  11.773044       5.0     48.0  \n",
       "\n",
       "[165 rows x 8 columns]"
      ]
     },
     "execution_count": 45,
     "metadata": {},
     "output_type": "execute_result"
    }
   ],
   "source": [
    "country_flow[country_flow['ans_owner_country']=='FRA']"
   ]
  },
  {
   "cell_type": "code",
   "execution_count": 46,
   "metadata": {
    "ExecuteTime": {
     "end_time": "2020-05-01T04:49:34.340559Z",
     "start_time": "2020-05-01T04:49:34.327538Z"
    }
   },
   "outputs": [
    {
     "data": {
      "text/html": [
       "<div>\n",
       "<style scoped>\n",
       "    .dataframe tbody tr th:only-of-type {\n",
       "        vertical-align: middle;\n",
       "    }\n",
       "\n",
       "    .dataframe tbody tr th {\n",
       "        vertical-align: top;\n",
       "    }\n",
       "\n",
       "    .dataframe thead th {\n",
       "        text-align: right;\n",
       "    }\n",
       "</style>\n",
       "<table border=\"1\" class=\"dataframe\">\n",
       "  <thead>\n",
       "    <tr style=\"text-align: right;\">\n",
       "      <th></th>\n",
       "      <th>index</th>\n",
       "      <th>ques_owner_country</th>\n",
       "      <th>ans_owner_country</th>\n",
       "      <th>count</th>\n",
       "      <th>long_ques</th>\n",
       "      <th>lat_ques</th>\n",
       "      <th>long_ans</th>\n",
       "      <th>lat_ans</th>\n",
       "    </tr>\n",
       "  </thead>\n",
       "  <tbody>\n",
       "    <tr>\n",
       "      <td>508</td>\n",
       "      <td>16740</td>\n",
       "      <td>USA</td>\n",
       "      <td>DEU</td>\n",
       "      <td>29088</td>\n",
       "      <td>-112.599436</td>\n",
       "      <td>45.705628</td>\n",
       "      <td>10.288485</td>\n",
       "      <td>51.133723</td>\n",
       "    </tr>\n",
       "    <tr>\n",
       "      <td>509</td>\n",
       "      <td>7101</td>\n",
       "      <td>IND</td>\n",
       "      <td>DEU</td>\n",
       "      <td>28747</td>\n",
       "      <td>79.593704</td>\n",
       "      <td>22.925006</td>\n",
       "      <td>10.288485</td>\n",
       "      <td>51.133723</td>\n",
       "    </tr>\n",
       "    <tr>\n",
       "      <td>510</td>\n",
       "      <td>5567</td>\n",
       "      <td>GBR</td>\n",
       "      <td>DEU</td>\n",
       "      <td>11916</td>\n",
       "      <td>-2.853135</td>\n",
       "      <td>53.914773</td>\n",
       "      <td>10.288485</td>\n",
       "      <td>51.133723</td>\n",
       "    </tr>\n",
       "    <tr>\n",
       "      <td>511</td>\n",
       "      <td>3972</td>\n",
       "      <td>DEU</td>\n",
       "      <td>DEU</td>\n",
       "      <td>37638</td>\n",
       "      <td>10.288485</td>\n",
       "      <td>51.133723</td>\n",
       "      <td>10.288485</td>\n",
       "      <td>51.133723</td>\n",
       "    </tr>\n",
       "    <tr>\n",
       "      <td>512</td>\n",
       "      <td>2508</td>\n",
       "      <td>CAN</td>\n",
       "      <td>DEU</td>\n",
       "      <td>4779</td>\n",
       "      <td>-98.142381</td>\n",
       "      <td>61.469076</td>\n",
       "      <td>10.288485</td>\n",
       "      <td>51.133723</td>\n",
       "    </tr>\n",
       "    <tr>\n",
       "      <td>...</td>\n",
       "      <td>...</td>\n",
       "      <td>...</td>\n",
       "      <td>...</td>\n",
       "      <td>...</td>\n",
       "      <td>...</td>\n",
       "      <td>...</td>\n",
       "      <td>...</td>\n",
       "      <td>...</td>\n",
       "    </tr>\n",
       "    <tr>\n",
       "      <td>665</td>\n",
       "      <td>14903</td>\n",
       "      <td>SUR</td>\n",
       "      <td>DEU</td>\n",
       "      <td>4</td>\n",
       "      <td>-55.911456</td>\n",
       "      <td>4.120008</td>\n",
       "      <td>10.288485</td>\n",
       "      <td>51.133723</td>\n",
       "    </tr>\n",
       "    <tr>\n",
       "      <td>666</td>\n",
       "      <td>5292</td>\n",
       "      <td>FLK</td>\n",
       "      <td>DEU</td>\n",
       "      <td>1</td>\n",
       "      <td>-59.420973</td>\n",
       "      <td>-51.713222</td>\n",
       "      <td>10.288485</td>\n",
       "      <td>51.133723</td>\n",
       "    </tr>\n",
       "    <tr>\n",
       "      <td>667</td>\n",
       "      <td>11523</td>\n",
       "      <td>NER</td>\n",
       "      <td>DEU</td>\n",
       "      <td>1</td>\n",
       "      <td>9.324427</td>\n",
       "      <td>17.345553</td>\n",
       "      <td>10.288485</td>\n",
       "      <td>51.133723</td>\n",
       "    </tr>\n",
       "    <tr>\n",
       "      <td>668</td>\n",
       "      <td>9578</td>\n",
       "      <td>LSO</td>\n",
       "      <td>DEU</td>\n",
       "      <td>1</td>\n",
       "      <td>28.170105</td>\n",
       "      <td>-29.625290</td>\n",
       "      <td>10.288485</td>\n",
       "      <td>51.133723</td>\n",
       "    </tr>\n",
       "    <tr>\n",
       "      <td>669</td>\n",
       "      <td>4110</td>\n",
       "      <td>DJI</td>\n",
       "      <td>DEU</td>\n",
       "      <td>1</td>\n",
       "      <td>42.498020</td>\n",
       "      <td>11.773044</td>\n",
       "      <td>10.288485</td>\n",
       "      <td>51.133723</td>\n",
       "    </tr>\n",
       "  </tbody>\n",
       "</table>\n",
       "<p>162 rows × 8 columns</p>\n",
       "</div>"
      ],
      "text/plain": [
       "     index ques_owner_country ans_owner_country  count   long_ques   lat_ques  \\\n",
       "508  16740                USA               DEU  29088 -112.599436  45.705628   \n",
       "509   7101                IND               DEU  28747   79.593704  22.925006   \n",
       "510   5567                GBR               DEU  11916   -2.853135  53.914773   \n",
       "511   3972                DEU               DEU  37638   10.288485  51.133723   \n",
       "512   2508                CAN               DEU   4779  -98.142381  61.469076   \n",
       "..     ...                ...               ...    ...         ...        ...   \n",
       "665  14903                SUR               DEU      4  -55.911456   4.120008   \n",
       "666   5292                FLK               DEU      1  -59.420973 -51.713222   \n",
       "667  11523                NER               DEU      1    9.324427  17.345553   \n",
       "668   9578                LSO               DEU      1   28.170105 -29.625290   \n",
       "669   4110                DJI               DEU      1   42.498020  11.773044   \n",
       "\n",
       "      long_ans    lat_ans  \n",
       "508  10.288485  51.133723  \n",
       "509  10.288485  51.133723  \n",
       "510  10.288485  51.133723  \n",
       "511  10.288485  51.133723  \n",
       "512  10.288485  51.133723  \n",
       "..         ...        ...  \n",
       "665  10.288485  51.133723  \n",
       "666  10.288485  51.133723  \n",
       "667  10.288485  51.133723  \n",
       "668  10.288485  51.133723  \n",
       "669  10.288485  51.133723  \n",
       "\n",
       "[162 rows x 8 columns]"
      ]
     },
     "execution_count": 46,
     "metadata": {},
     "output_type": "execute_result"
    }
   ],
   "source": [
    "country_flow[country_flow['ans_owner_country']=='DEU']"
   ]
  },
  {
   "cell_type": "code",
   "execution_count": 48,
   "metadata": {
    "ExecuteTime": {
     "end_time": "2020-05-01T04:50:59.333435Z",
     "start_time": "2020-05-01T04:50:59.206788Z"
    }
   },
   "outputs": [
    {
     "name": "stdout",
     "output_type": "stream",
     "text": [
      "/Users/saibo/AEPFL_S2/Data Viz/milestone2/saibo/data\r\n"
     ]
    }
   ],
   "source": [
    "!pwd"
   ]
  },
  {
   "cell_type": "code",
   "execution_count": null,
   "metadata": {},
   "outputs": [],
   "source": []
  }
 ],
 "metadata": {
  "kernelspec": {
   "display_name": "Python 3",
   "language": "python",
   "name": "python3"
  },
  "language_info": {
   "codemirror_mode": {
    "name": "ipython",
    "version": 3
   },
   "file_extension": ".py",
   "mimetype": "text/x-python",
   "name": "python",
   "nbconvert_exporter": "python",
   "pygments_lexer": "ipython3",
   "version": "3.7.4"
  }
 },
 "nbformat": 4,
 "nbformat_minor": 2
}
